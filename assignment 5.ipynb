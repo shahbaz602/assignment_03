{
 "cells": [
  {
   "cell_type": "code",
   "execution_count": 1,
   "metadata": {},
   "outputs": [
    {
     "name": "stdout",
     "output_type": "stream",
     "text": [
      "Input a number to compute the factiorial : 5\n",
      "120\n"
     ]
    }
   ],
   "source": [
    "#Write a Python function to calculate the factorial of a number (a non-negative integer).\n",
    "#The function accepts the number as an argument. \n",
    "\n",
    "n=int(input(\"Input a number to compute the factiorial : \"))\n",
    "\n",
    "\n",
    "def factorial(n):\n",
    "    if n == 0:\n",
    "        return 1\n",
    "    else:\n",
    "        return n * factorial(n-1)\n",
    "\n",
    "print( factorial(n) )\n"
   ]
  },
  {
   "cell_type": "code",
   "execution_count": 2,
   "metadata": {},
   "outputs": [
    {
     "name": "stdout",
     "output_type": "stream",
     "text": [
      "(Note : Donot enter the number)\n",
      "enter the characher in upper & lower case = I LOVE U Muhammad Ali Mughal \n",
      "Original String :  I LOVE U Muhammad Ali Mughal \n",
      "No. of Upper case characters :  9\n",
      "No. of Lower case Characters :  14\n"
     ]
    }
   ],
   "source": [
    "#Write a Python function that accepts a string and calculate the number of upper case letters and lower case letters\n",
    "\n",
    "def string_test(s):\n",
    "    d={\"UPPER_CASE\":0, \"LOWER_CASE\":0}\n",
    "    for c in s:\n",
    "        if c.isupper():\n",
    "           d[\"UPPER_CASE\"]+=1\n",
    "        elif c.islower():\n",
    "           d[\"LOWER_CASE\"]+=1\n",
    "        else:\n",
    "           pass\n",
    "    \n",
    "    print (\"Original String : \", s)\n",
    "    print (\"No. of Upper case characters : \", d[\"UPPER_CASE\"])\n",
    "    print (\"No. of Lower case Characters : \", d[\"LOWER_CASE\"])\n",
    "    \n",
    "    \n",
    "print (\"(Note : Donot enter the number)\")\n",
    "string_test(input(\"enter the characher in upper & lower case = \"))"
   ]
  },
  {
   "cell_type": "code",
   "execution_count": 3,
   "metadata": {},
   "outputs": [
    {
     "name": "stdout",
     "output_type": "stream",
     "text": [
      "[2, 4, 6, 8, 10, 12, 14, 16, 18, 20]\n"
     ]
    }
   ],
   "source": [
    "#Write a Python function to print the even numbers from a given list. \n",
    "\n",
    "def is_even_num(l):\n",
    "    enum = []\n",
    "    for n in l:\n",
    "        if n % 2 == 0:\n",
    "            enum.append(n)\n",
    "    return enum\n",
    "print(is_even_num([1, 2, 3, 4, 5, 6, 7, 8, 9, 10, 11, 12, 13, 14, 15, 16, 17, 18, 19, 20]))"
   ]
  },
  {
   "cell_type": "code",
   "execution_count": 4,
   "metadata": {},
   "outputs": [
    {
     "name": "stdout",
     "output_type": "stream",
     "text": [
      "checks whether a passed string is palindrome or not = ara\n",
      "True\n"
     ]
    }
   ],
   "source": [
    "#Write a Python function that checks whether a passed string is palindrome or not.\n",
    "#Note: A palindrome is a word, phrase, or sequence that reads the same backward as forward, e.g., madam \n",
    "\n",
    "def isPalindrome(string):\n",
    "    left_pos = 0\n",
    "    right_pos = len(string) - 1\n",
    "\n",
    "    while right_pos >= left_pos:\n",
    "        if not string[left_pos] == string[right_pos]:\n",
    "            return False\n",
    "        left_pos += 1\n",
    "        right_pos -= 1\n",
    "        return True\n",
    "print(isPalindrome(input(\"checks whether a passed string is palindrome or not = \"))) "
   ]
  },
  {
   "cell_type": "code",
   "execution_count": 5,
   "metadata": {},
   "outputs": [
    {
     "name": "stdout",
     "output_type": "stream",
     "text": [
      "check the number is prime or not = 7\n",
      "True\n"
     ]
    }
   ],
   "source": [
    "#Write a Python function that takes a number as a parameter and check the number is prime or not\n",
    "\n",
    "def test_prime(n):\n",
    "    if (n==1):\n",
    "        return False\n",
    "    elif (n==2):\n",
    "        return True;\n",
    "    else:\n",
    "        for x in range(2,n):\n",
    "            if(n % x==0):\n",
    "                return False\n",
    "        return True             \n",
    "print(test_prime(int(input(\"check the number is prime or not = \"))))"
   ]
  },
  {
   "cell_type": "code",
   "execution_count": 6,
   "metadata": {},
   "outputs": [
    {
     "name": "stdout",
     "output_type": "stream",
     "text": [
      "____________OPTIONS_____________\n",
      "1.ADD ITEMS\n",
      "2.EXITS\n",
      "________________________________\n",
      "TOTAL ITEMS :\n",
      "ENTER 1 for add items & Enter 2 for exit :1\n",
      "The items Name :mango\n",
      "TOTAL ITEMS :\n",
      "--->mango\n",
      "ENTER 1 for add items & Enter 2 for exit :1\n",
      "The items Name :apple\n",
      "TOTAL ITEMS :\n",
      "--->mango\n",
      "--->apple\n",
      "ENTER 1 for add items & Enter 2 for exit :1\n",
      "The items Name :metal\n",
      "TOTAL ITEMS :\n",
      "--->mango\n",
      "--->apple\n",
      "--->metal\n",
      "ENTER 1 for add items & Enter 2 for exit :1\n",
      "The items Name :coca cola\n",
      "TOTAL ITEMS :\n",
      "--->mango\n",
      "--->apple\n",
      "--->metal\n",
      "--->coca cola\n",
      "ENTER 1 for add items & Enter 2 for exit :1\n",
      "The items Name :shirt\n",
      "TOTAL ITEMS :\n",
      "--->mango\n",
      "--->apple\n",
      "--->metal\n",
      "--->coca cola\n",
      "--->shirt\n",
      "ENTER 1 for add items & Enter 2 for exit :2\n"
     ]
    }
   ],
   "source": [
    "# Suppose a customer is shopping in a market and you need to print all the items which user bought from market.\n",
    "# Write a function which accepts the multiple arguments of user shopping list \n",
    "# print all the items which user bought from market. \n",
    "\n",
    "\n",
    "\n",
    "print(\"____________OPTIONS_____________\")\n",
    "print(\"1.ADD ITEMS\")\n",
    "print(\"2.EXITS\")\n",
    "print(\"________________________________\")\n",
    "\n",
    "items = []\n",
    "\n",
    "while True:\n",
    "    print(\"TOTAL ITEMS :\")\n",
    "    for item in items:\n",
    "        print(\"--->\" + item )\n",
    "        \n",
    "    inp = input(\"ENTER 1 for add items & Enter 2 for exit :\")\n",
    "    \n",
    "    if inp == '1':\n",
    "        items.append(input(\"The items Name :\"))\n",
    "    elif inp == \"2\":\n",
    "        break\n",
    "    else:\n",
    "        print(\"Invalid number\")"
   ]
  },
  {
   "cell_type": "code",
   "execution_count": null,
   "metadata": {},
   "outputs": [],
   "source": []
  }
 ],
 "metadata": {
  "kernelspec": {
   "display_name": "Python 3",
   "language": "python",
   "name": "python3"
  },
  "language_info": {
   "codemirror_mode": {
    "name": "ipython",
    "version": 3
   },
   "file_extension": ".py",
   "mimetype": "text/x-python",
   "name": "python",
   "nbconvert_exporter": "python",
   "pygments_lexer": "ipython3",
   "version": "3.7.4"
  }
 },
 "nbformat": 4,
 "nbformat_minor": 2
}
