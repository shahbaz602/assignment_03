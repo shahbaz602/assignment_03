{
 "cells": [
  {
   "cell_type": "code",
   "execution_count": 1,
   "metadata": {},
   "outputs": [
    {
     "name": "stdout",
     "output_type": "stream",
     "text": [
      "Twinkle, twinkle, little star,\n",
      "      How I wonder what you are! \n",
      "            Up above the world so high,\n",
      "            Like a diamond in the sky. \n",
      "Twinkle, twinkle, little star, \n",
      "      How I wonder what you are \n"
     ]
    }
   ],
   "source": [
    "# Write a Python program to print the following string in a specific format (see the output). \n",
    "print (\"Twinkle, twinkle, little star,\")\n",
    "print (\"      How I wonder what you are! \")\n",
    "print (\"            Up above the world so high,\")\n",
    "print (\"            Like a diamond in the sky. \")\n",
    "print (\"Twinkle, twinkle, little star, \")\n",
    "print (\"      How I wonder what you are \")"
   ]
  },
  {
   "cell_type": "code",
   "execution_count": 2,
   "metadata": {},
   "outputs": [
    {
     "name": "stdout",
     "output_type": "stream",
     "text": [
      "Python version\n",
      "3.7.4 (default, Aug  9 2019, 18:34:13) [MSC v.1915 64 bit (AMD64)]\n"
     ]
    }
   ],
   "source": [
    "#Write a Python program to get the Python version you are using \n",
    "import sys\n",
    "print (\"Python version\")\n",
    "print (sys.version)"
   ]
  },
  {
   "cell_type": "code",
   "execution_count": 3,
   "metadata": {},
   "outputs": [
    {
     "name": "stdout",
     "output_type": "stream",
     "text": [
      "Live DATE AND TIME = 2019-11-20 17:25:43.125004\n",
      "live DATE AND TIME = 20/11/19 17:25:43\n"
     ]
    }
   ],
   "source": [
    " #Write a Python program to display the current date and time. \n",
    "from datetime import datetime\n",
    "now = datetime.now()\n",
    "print (\"Live DATE AND TIME =\" , now  )\n",
    "\n",
    " #Write a Python program to display the current date and time. \n",
    "from datetime import datetime\n",
    "now = datetime.today()\n",
    "time = now.strftime(\"%d/%m/%y %H:%M:%S\")\n",
    "print (\"live DATE AND TIME =\", time)"
   ]
  },
  {
   "cell_type": "code",
   "execution_count": 4,
   "metadata": {},
   "outputs": [
    {
     "name": "stdout",
     "output_type": "stream",
     "text": [
      "Accepts the radius of a circle from the user and compute the area\n",
      "The radius of a circle from the user : 5\n",
      "The area of the circle with radius 5.0 is:78.53981633974483\n"
     ]
    }
   ],
   "source": [
    "#Write a Python program which accepts the radius of a circle from the user and compute the area\n",
    "print (\"Accepts the radius of a circle from the user and compute the area\")\n",
    "\n",
    "from math import pi\n",
    "\n",
    "radius = float(input(\"The radius of a circle from the user : \"))\n",
    "print (\"The area of the circle with radius \" + str(radius) + \" is:\" + str(pi*radius**2))"
   ]
  },
  {
   "cell_type": "code",
   "execution_count": 5,
   "metadata": {},
   "outputs": [
    {
     "name": "stdout",
     "output_type": "stream",
     "text": [
      "Frist_name = shahbaz ali\n",
      "middle_name =  \n",
      "Second_name = akram\n",
      "USER_NAME = akram shahbaz ali\n",
      "Frist_name = shahbaz ali\n",
      "Second_name = akram\n",
      "USER_NAME = akram shahbaz ali\n"
     ]
    }
   ],
   "source": [
    "#Write a Python program which accepts the user's first and last name and print them in reverse order with a space between them.\n",
    " \n",
    "frist_name = str(input(\"Frist_name = \"))\n",
    "middle_name = str(input(\"middle_name = \"))\n",
    "second_name = str(input(\"Second_name = \"))\n",
    "user_name = second_name + middle_name + frist_name\n",
    "print (\"USER_NAME =\", user_name)\n",
    "\n",
    "\n",
    "#Write a Python program which accepts the user's first and last name and print them in reverse order with a space between them.\n",
    " \n",
    "frist_name = str(input(\"Frist_name = \"))\n",
    "\n",
    "second_name = str(input(\"Second_name = \"))\n",
    "\n",
    "print (\"USER_NAME =\", second_name + \" \" + frist_name)"
   ]
  },
  {
   "cell_type": "code",
   "execution_count": 6,
   "metadata": {},
   "outputs": [
    {
     "name": "stdout",
     "output_type": "stream",
     "text": [
      "ADDITION OF TWO VALUES\n",
      "Enter the value one= 5\n",
      "Enter the value Two= 6\n",
      "Total_value =  11\n"
     ]
    }
   ],
   "source": [
    "# Write a python program which takes two inputs from user and print them addition \n",
    "print (\"ADDITION OF TWO VALUES\")\n",
    "value_a = int(input (\"Enter the value one= \"))\n",
    "value_b = int(input (\"Enter the value Two= \"))\n",
    "total_value = value_a + value_b\n",
    "print (\"Total_value = \", total_value )"
   ]
  },
  {
   "cell_type": "code",
   "execution_count": null,
   "metadata": {},
   "outputs": [],
   "source": []
  }
 ],
 "metadata": {
  "kernelspec": {
   "display_name": "Python 3",
   "language": "python",
   "name": "python3"
  },
  "language_info": {
   "codemirror_mode": {
    "name": "ipython",
    "version": 3
   },
   "file_extension": ".py",
   "mimetype": "text/x-python",
   "name": "python",
   "nbconvert_exporter": "python",
   "pygments_lexer": "ipython3",
   "version": "3.7.4"
  }
 },
 "nbformat": 4,
 "nbformat_minor": 2
}
