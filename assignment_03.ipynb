{
 "cells": [
  {
   "cell_type": "code",
   "execution_count": 1,
   "metadata": {},
   "outputs": [
    {
     "name": "stdout",
     "output_type": "stream",
     "text": [
      "enter the value = 5\n",
      "enter the operator = **\n",
      "enter the value = 4\n",
      "answer : 625\n"
     ]
    }
   ],
   "source": [
    "#Make a calculator using Python with addition , subtraction , multiplication ,division and power.\n",
    "\n",
    "val1 = int(input(\"enter the value = \" ))\n",
    "operator = input(\"enter the operator = \")\n",
    "val2 = int(input(\"enter the value = \"))\n",
    "\n",
    "if operator == \"+\":\n",
    "    val = val1 + val2\n",
    "    print(\"answer :\" , val)\n",
    "elif operator == \"-\":\n",
    "    val = val1 - val2\n",
    "    print(\"answer :\" , val)\n",
    "elif operator == \"*\":\n",
    "    val = val1 * val2\n",
    "    print(\"answer :\" , val)\n",
    "elif operator == \"/\":\n",
    "    val = val1 / val2\n",
    "    print(\"answer :\" , val)\n",
    "elif operator == \"%\":\n",
    "    val = val1 % val2\n",
    "    print(\"answer :\" , val)\n",
    "elif operator == \"**\":\n",
    "    val = val1 ** val2\n",
    "    print(\"answer :\" , val)\n",
    "else : \n",
    "    print(\" The using operator is wrong 'put ri8 operaor'\")"
   ]
  },
  {
   "cell_type": "code",
   "execution_count": 2,
   "metadata": {},
   "outputs": [
    {
     "name": "stdout",
     "output_type": "stream",
     "text": [
      "There is numeric value in list. \n"
     ]
    }
   ],
   "source": [
    "#Write a program to check if there is any numeric value in list using for loop.\n",
    "\n",
    "list1 = [\"sheh\", \"arbaz\" , \"hammad\" , 1 , \"shehroz\" , \"shahbaz\"  ]\n",
    "\n",
    "for a in list1 :\n",
    "    if a == 1 :\n",
    "        print (\"There is numeric value in list. \")"
   ]
  },
  {
   "cell_type": "code",
   "execution_count": 4,
   "metadata": {},
   "outputs": [
    {
     "name": "stdout",
     "output_type": "stream",
     "text": [
      "{'shahbaz': 'loin', 'arbaz': 'cat', 'hammad': 'good boy', 'rubab': 'bad girl', 'shah': 'sindhi', 'rabial': 'great girl'}\n"
     ]
    }
   ],
   "source": [
    "#Write a Python script to add a key to a dictionary\n",
    "\n",
    "dictionary = {\"shahbaz\" : \"loin\" , \"arbaz\" : \"cat\" , \"hammad\" : \"good boy\" , \"rubab\" : \"bad girl\" , \"shah\" : \"sindhi\"}\n",
    "\n",
    "dictionary[\"rabial\"] = \"great girl\"\n",
    "print (dictionary)"
   ]
  },
  {
   "cell_type": "code",
   "execution_count": 6,
   "metadata": {},
   "outputs": [
    {
     "name": "stdout",
     "output_type": "stream",
     "text": [
      "788\n",
      "46\n"
     ]
    }
   ],
   "source": [
    "#Write a Python program to sum all the numeric items in a dictionary.\n",
    "\n",
    "dictionary = {\"shahbaz\" : 56  , \"arbaz\" : 56  , \"hammad\" : 25  , \"rubab\" : 86  , \"shah\" : 565 }\n",
    "print(sum(dictionary.values()))\n",
    "\n",
    "dictionary = { 5 : \"shah\"  , 8 : \"arbaz\"  , 9 : \"hammad\"  , 10 : \"shahbaz\"  , 14 : \"arbaz\" }\n",
    "print(sum(dictionary.keys()))"
   ]
  },
  {
   "cell_type": "code",
   "execution_count": 8,
   "metadata": {},
   "outputs": [
    {
     "name": "stdout",
     "output_type": "stream",
     "text": [
      "THE DUPLICATE VALUES IS =  [3, 9, 12]\n"
     ]
    }
   ],
   "source": [
    "#Write a program to identify duplicate values from list\n",
    "\n",
    "lst = [ 3, 6, 9, 12, 3, 30, 15, 9, 45, 36, 12, 12]\n",
    "dupItems = []\n",
    "uniqItems = {}\n",
    "for x in lst:\n",
    "    if x not in uniqItems:\n",
    "        uniqItems[x] = 1\n",
    "    else:\n",
    "        if uniqItems[x] == 1:\n",
    "            dupItems.append(x)\n",
    "        uniqItems[x] += 1\n",
    "print(\"THE DUPLICATE VALUES IS = \" ,dupItems)"
   ]
  },
  {
   "cell_type": "code",
   "execution_count": 9,
   "metadata": {},
   "outputs": [
    {
     "name": "stdout",
     "output_type": "stream",
     "text": [
      "ENTER THE KEY = hammad\n",
      "Key is present in the dictionary\n"
     ]
    }
   ],
   "source": [
    "#Write a Python script to check if a given key already exists in a dictionary.\n",
    "\n",
    "dictionary = {\"shahbaz\" : \"loin\" , \"arbaz\" : \"cat\" , \"hammad\" : \"good boy\" , \"rubab\" : \"bad girl\" , \"shah\" : \"sindhi\"}\n",
    "x = input(\"ENTER THE KEY = \")\n",
    "\n",
    "if x in dictionary:\n",
    "      print('Key is present in the dictionary')\n",
    "else:\n",
    "      print('Key is not present in the dictionary')"
   ]
  },
  {
   "cell_type": "code",
   "execution_count": null,
   "metadata": {},
   "outputs": [],
   "source": []
  }
 ],
 "metadata": {
  "kernelspec": {
   "display_name": "Python 3",
   "language": "python",
   "name": "python3"
  },
  "language_info": {
   "codemirror_mode": {
    "name": "ipython",
    "version": 3
   },
   "file_extension": ".py",
   "mimetype": "text/x-python",
   "name": "python",
   "nbconvert_exporter": "python",
   "pygments_lexer": "ipython3",
   "version": "3.7.4"
  }
 },
 "nbformat": 4,
 "nbformat_minor": 2
}
