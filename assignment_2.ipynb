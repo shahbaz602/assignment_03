{
 "cells": [
  {
   "cell_type": "code",
   "execution_count": 1,
   "metadata": {},
   "outputs": [
    {
     "name": "stdout",
     "output_type": "stream",
     "text": [
      "***Your Marksheet***\n",
      "Enter your marks of English out of 100 = 55\n",
      "Enter your marks of Urdu out of 100 = 55\n",
      "Enter your marks of Chemistry out of 100 = 56\n",
      "Enter your marks of Physics out of 100 = 65\n",
      "Enter your marks of Maths out of 100 = 99\n",
      "Your Total Marks are 330\n",
      "Your Percentage is 66.0\n",
      "Congratulations You have secured Grade D\n"
     ]
    }
   ],
   "source": [
    "#Write a program which takes 5 inputs from user for different subject’s marks, total it and generate mark sheet using grades ? \n",
    "\n",
    "print(\"***Your Marksheet***\")\n",
    "English= int(input(\"Enter your marks of English out of 100 = \")) \n",
    "Urdu= int(input(\"Enter your marks of Urdu out of 100 = \")) \n",
    "Chemistry= int(input(\"Enter your marks of Chemistry out of 100 = \"))\n",
    "Physics= int(input(\"Enter your marks of Physics out of 100 = \"))\n",
    "Maths= int(input(\"Enter your marks of Maths out of 100 = \"))\n",
    " \n",
    "Total_marks= English+Urdu+Chemistry+Physics+Maths\n",
    "Percentage= (Total_marks/500)*100 \n",
    "print(\"Your Total Marks are \" + str(Total_marks))\n",
    "print(\"Your Percentage is\" + \" \" + str(Percentage))\n",
    "if Percentage >= 90 and Percentage <=100:   \n",
    "    print(\"Congratulations! You have secured Grade A\")\n",
    "elif Percentage <90 and Percentage >=80:    \n",
    "    print(\"Congratulations! You have secured Grade B\") \n",
    "elif Percentage <80 and Percentage >=70:   \n",
    "    print(\"Congratulations You have secured Grade C\")\n",
    "elif Percentage <70 and Percentage >=60:    \n",
    "    print(\"Congratulations You have secured Grade D\") \n",
    "else:    print(\"You have failed in examinations\")\n"
   ]
  },
  {
   "cell_type": "code",
   "execution_count": 2,
   "metadata": {},
   "outputs": [
    {
     "name": "stdout",
     "output_type": "stream",
     "text": [
      "Enter a number: 5\n",
      "This is an odd number.\n"
     ]
    }
   ],
   "source": [
    "# Write a program which take input from user and identify that the given number is even or odd\n",
    "num = int(input(\"Enter a number: \"))\n",
    "value = num % 2\n",
    "if value > 0:\n",
    "    print(\"This is an odd number.\")\n",
    "else:\n",
    "    print(\"This is an even number.\")"
   ]
  },
  {
   "cell_type": "code",
   "execution_count": 3,
   "metadata": {},
   "outputs": [
    {
     "name": "stdout",
     "output_type": "stream",
     "text": [
      "The length of list is:  5\n"
     ]
    }
   ],
   "source": [
    "#Write a program which print the length of the list? \n",
    "\n",
    "str1 = [\"a\", \"gh\", \"gbv\",\"gh\",\"ghj\"]\n",
    "print(\"The length of list is: \", len(str1)) "
   ]
  },
  {
   "cell_type": "code",
   "execution_count": 7,
   "metadata": {},
   "outputs": [
    {
     "name": "stdout",
     "output_type": "stream",
     "text": [
      "How many numbers: 5\n",
      "Enter number 1\n",
      "Enter number 1\n",
      "Enter number 1\n",
      "Enter number 1\n",
      "Enter number 1\n",
      "Sum of elements in given list is : 5\n"
     ]
    }
   ],
   "source": [
    "#Write a Python program to sum all the numeric items in a list?\n",
    "\n",
    "lst = []\n",
    "num = int(input('How many numbers: '))\n",
    "for n in range(num):\n",
    "    numbers = int(input('Enter number '))\n",
    "    lst.append(numbers)\n",
    "print(\"Sum of elements in given list is :\", sum(lst))"
   ]
  },
  {
   "cell_type": "code",
   "execution_count": 5,
   "metadata": {},
   "outputs": [
    {
     "name": "stdout",
     "output_type": "stream",
     "text": [
      "How many numbers: 5\n",
      "Enter number 5\n",
      "Enter number 5\n",
      "Enter number 5\n",
      "Enter number 5\n",
      "Enter number 5\n",
      "largest element in the list is : 5\n"
     ]
    }
   ],
   "source": [
    "#Write a Python program to get the largest number from a numeric list\n",
    "lst = []\n",
    "num = int(input('How many numbers: '))\n",
    "for n in range(num):\n",
    "    numbers = int(input('Enter number '))\n",
    "    lst.append(numbers)\n",
    "print(\"largest element in the list is :\", max(lst), )"
   ]
  },
  {
   "cell_type": "code",
   "execution_count": 6,
   "metadata": {},
   "outputs": [
    {
     "name": "stdout",
     "output_type": "stream",
     "text": [
      "1\n",
      "1\n",
      "2\n",
      "3\n"
     ]
    }
   ],
   "source": [
    "# Take a list, say for example this one:  a = [1, 1, 2, 3, 5, 8, 13, 21, 34, 55, 89] and write a program that prints out all the elements of the list that are less than 5. \n",
    "\n",
    "\n",
    "a = [1, 1, 2, 3, 5, 8, 13, 21, 34, 55, 89]\n",
    "for l in a:\n",
    "        if l<5:\n",
    "            print(l)"
   ]
  },
  {
   "cell_type": "code",
   "execution_count": null,
   "metadata": {},
   "outputs": [],
   "source": []
  }
 ],
 "metadata": {
  "kernelspec": {
   "display_name": "Python 3",
   "language": "python",
   "name": "python3"
  },
  "language_info": {
   "codemirror_mode": {
    "name": "ipython",
    "version": 3
   },
   "file_extension": ".py",
   "mimetype": "text/x-python",
   "name": "python",
   "nbconvert_exporter": "python",
   "pygments_lexer": "ipython3",
   "version": "3.7.4"
  }
 },
 "nbformat": 4,
 "nbformat_minor": 2
}
