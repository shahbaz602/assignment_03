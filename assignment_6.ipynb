{
 "cells": [
  {
   "cell_type": "code",
   "execution_count": 1,
   "metadata": {},
   "outputs": [
    {
     "name": "stdout",
     "output_type": "stream",
     "text": [
      "---Object Oriented Programming Language-----\n",
      "A style of programming in which data and the operations that manipulate it are organized into classes and methods.\n",
      "A language that provides features, such as user-defined classes and inheritance, that facilitate object-oriented programming.\n"
     ]
    }
   ],
   "source": [
    "##Define Object Oriented Programming Language?\n",
    "\n",
    "print(\"---Object Oriented Programming Language-----\")\n",
    "print(\"A style of programming in which data and the operations that manipulate it are organized into classes and methods.\")\n",
    "print(\"A language that provides features, such as user-defined classes and inheritance, that facilitate object-oriented programming.\")"
   ]
  },
  {
   "cell_type": "code",
   "execution_count": 2,
   "metadata": {},
   "outputs": [
    {
     "name": "stdout",
     "output_type": "stream",
     "text": [
      "---------------THE BENEFITS OF OOP-------------------\n",
      " 1. Modularity for easier troubleshooting. Something has gone wrong, and you have no idea where to look.\n",
      " 2. Reuse of code through inheritance. \n",
      " 3. Flexibility through polymorphism.\n",
      " 4. Effective problem solving. \n"
     ]
    }
   ],
   "source": [
    "##List down the Benefits of OOP?\n",
    "print(\"---------------THE BENEFITS OF OOP-------------------\")\n",
    "print(\" 1. Modularity for easier troubleshooting. Something has gone wrong, and you have no idea where to look.\")\n",
    "print(\" 2. Reuse of code through inheritance. \")\n",
    "print(\" 3. Flexibility through polymorphism.\") \n",
    "print(\" 4. Effective problem solving. \")\n"
   ]
  },
  {
   "cell_type": "code",
   "execution_count": 3,
   "metadata": {},
   "outputs": [
    {
     "name": "stdout",
     "output_type": "stream",
     "text": [
      "-----------Differentiate between function and method--------------\n",
      " FUNCTION : A function that does not modify any of the objects it receives as parameters. Most pure functions are fruitful.\n",
      " METHODS  : A function that is defined inside a class definition and is invoked on instances of that class.\n"
     ]
    }
   ],
   "source": [
    "###Differentiate between function and method?\n",
    "\n",
    "print(\"-----------Differentiate between function and method--------------\")\n",
    "print(\" FUNCTION : A function that does not modify any of the objects it receives as parameters. Most pure functions are fruitful.\")\n",
    "print(\" METHODS  : A function that is defined inside a class definition and is invoked on instances of that class.\")"
   ]
  },
  {
   "cell_type": "code",
   "execution_count": 4,
   "metadata": {},
   "outputs": [
    {
     "name": "stdout",
     "output_type": "stream",
     "text": [
      "1.CLASS:A user-defined compound type.A class can also be thought of as a template for the objects that are instances of it.\n",
      "2.OBJECT:A compound data type that is often used to model a thing or concept in the real world  \n",
      "3.ATTRIBUTE:One of the named data items that makes up an instance.\n",
      "4.BEHAVIOR:Behaviordriven development using Python's 'behave' framework can help your team achieve better collaboration and test automation\n"
     ]
    }
   ],
   "source": [
    "###Define the following terms:\n",
    "#1. Class\n",
    "#2. Object\n",
    "#3. Attribute\n",
    "#4. Behavior\n",
    "\n",
    "print(\"1.CLASS:A user-defined compound type.A class can also be thought of as a template for the objects that are instances of it.\")\n",
    "print(\"2.OBJECT:A compound data type that is often used to model a thing or concept in the real world  \")\n",
    "print(\"3.ATTRIBUTE:One of the named data items that makes up an instance.\")\n",
    "print(\"4.BEHAVIOR:Behaviordriven development using Python's 'behave' framework can help your team achieve better collaboration and test automation\")"
   ]
  },
  {
   "cell_type": "code",
   "execution_count": 5,
   "metadata": {},
   "outputs": [
    {
     "name": "stdout",
     "output_type": "stream",
     "text": [
      "HONDA\n",
      "2019\n",
      "KHY-0987\n",
      "2019\n",
      "ON PERTROL\n"
     ]
    }
   ],
   "source": [
    "####Write a code in python in which create a class named it Car which have 5 attributes such like (model, color and name etc.) and 3methods. And create 5 object instance from that class.\n",
    "\n",
    "\n",
    "class car:\n",
    "\n",
    "    def __init__(self, name, model, colour, number, fuel ):\n",
    "        self.name = name\n",
    "        self.model = model\n",
    "        \n",
    "    \n",
    "        self.colour = colour\n",
    "        self.number = number\n",
    "        self.fuel = fuel\n",
    "\n",
    "    \n",
    "\n",
    "car = car(\n",
    "    \"HONDA\",\n",
    "    \"2019\",\n",
    "    \"BLUE\",\n",
    "    \"KHY-0987\",\n",
    "    \"ON PERTROL\"\n",
    ")\n",
    "\n",
    "print(car.name)\n",
    "print(car.model)\n",
    "print(car.number)\n",
    "print(car.model)\n",
    "print(car.fuel)"
   ]
  },
  {
   "cell_type": "code",
   "execution_count": null,
   "metadata": {},
   "outputs": [],
   "source": []
  }
 ],
 "metadata": {
  "kernelspec": {
   "display_name": "Python 3",
   "language": "python",
   "name": "python3"
  },
  "language_info": {
   "codemirror_mode": {
    "name": "ipython",
    "version": 3
   },
   "file_extension": ".py",
   "mimetype": "text/x-python",
   "name": "python",
   "nbconvert_exporter": "python",
   "pygments_lexer": "ipython3",
   "version": "3.7.4"
  }
 },
 "nbformat": 4,
 "nbformat_minor": 2
}
