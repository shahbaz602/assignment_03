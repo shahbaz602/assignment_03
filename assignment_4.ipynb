{
 "cells": [
  {
   "cell_type": "code",
   "execution_count": 1,
   "metadata": {},
   "outputs": [
    {
     "name": "stdout",
     "output_type": "stream",
     "text": [
      "SHAHBAZ\n",
      "AKRAM\n",
      "22\n",
      "karachi\n"
     ]
    }
   ],
   "source": [
    "#-----------------------Q1--------------------------\n",
    "#Use a dictionary to store information about a person you know.\n",
    "#Store their first name, last name, age, and the city in which they live.\n",
    "#You should have keys such as first_name, last_name, age, and city. Print each piece of information stored in your dictionary. \n",
    "#Add a new key value pair about qualification then update the qualification value to high academic level then delete it.\n",
    "\n",
    "person = {\n",
    "    'first_name': 'SHAHBAZ',\n",
    "    'last_name': 'AKRAM',\n",
    "    'age': '22',\n",
    "    'city': 'karachi',\n",
    "    }\n",
    "person[\"qualification value\"] = \"high academic level\"\n",
    "\n",
    "del person[\"qualification value\"]\n",
    "\n",
    "print(person['first_name'])\n",
    "print(person['last_name'])\n",
    "print(person['age'])\n",
    "print(person['city'])"
   ]
  },
  {
   "cell_type": "code",
   "execution_count": 2,
   "metadata": {},
   "outputs": [
    {
     "name": "stdout",
     "output_type": "stream",
     "text": [
      "{'name': 'karachi', 'population': '84%', 'country': 'pakistan', 'FACT': 'clean city'}\n",
      "{'name': 'lahore', 'population': '12%', 'country': 'pakistan', 'FACT': 'less population'}\n",
      "{'name': 'islamabad', 'population': '45%', 'country': 'pakistan', 'FACT': 'developed'}\n"
     ]
    }
   ],
   "source": [
    "#________________________Q2_______________________\n",
    "#Make a dictionary called cities.\n",
    "#Use the names of three cities as keys in your dictionary.\n",
    "#Create a dictionary of information about each city and include the country that the city is in, its approximate population, and one fact about that city.\n",
    "#The keys for each city’s dictionary should be something like country, population, and fact. \n",
    "#Print the name of each city and all of the information you have stored about it.\n",
    "\n",
    "city1 = {\n",
    "  \"name\" : \"karachi\",\n",
    "  \"population\" : \"84%\",\n",
    "  \"country\" : \"pakistan\",\n",
    "  \"FACT\" : \"clean city\"\n",
    "}\n",
    "city2 = {\n",
    "  \"name\" : \"lahore\",\n",
    "  \"population\" : \"12%\",\n",
    "  \"country\" : \"pakistan\",\n",
    "    \"FACT\" : \"less population\"\n",
    "}\n",
    "city3 = {\n",
    "  \"name\" : \"islamabad\",\n",
    "  \"population\" : \"45%\",\n",
    "  \"country\" : \"pakistan\",\n",
    "  \"FACT\" : \"developed\"\n",
    "}\n",
    "\n",
    "cities = {\n",
    "  \"city1\" : city1,\n",
    "  \"city2\" : city2,\n",
    "  \"city3\" : city3\n",
    "}\n",
    "\n",
    "print(city1)\n",
    "print(city2)\n",
    "print(city3)"
   ]
  },
  {
   "cell_type": "code",
   "execution_count": 4,
   "metadata": {},
   "outputs": [
    {
     "name": "stdout",
     "output_type": "stream",
     "text": [
      "\n",
      "Enter '100' when you are finished.\n",
      "Please enter your age: 5\n",
      "Your ticket is $10\n",
      "\n",
      "Enter '100' when you are finished.\n",
      "Please enter your age: 10\n",
      "Your ticket is $10\n",
      "\n",
      "Enter '100' when you are finished.\n",
      "Please enter your age: 15\n",
      "Your ticket is $15\n",
      "\n",
      "Enter '100' when you are finished.\n",
      "Please enter your age: 100\n"
     ]
    }
   ],
   "source": [
    "##A movie theater charges different ticket prices depending on a person’s age. \n",
    "##If a person is under the age of 3, the ticket is free; if they are between 3 and 12, the ticket is $10; and if they are over age 12, the ticket is $15.\n",
    "##Write a loop in which you ask users their age, and then tell them the cost of their movie ticket.\n",
    "\n",
    "prompt = \"\\nEnter '100' when you are finished.\"\n",
    "prompt += \"\\nPlease enter your age: \"\n",
    "\n",
    "\n",
    "while True:\n",
    "    age = input(prompt)\n",
    "    age = int(age)\n",
    "\n",
    "\n",
    "    if age == 100:\n",
    "        break\n",
    "    elif age <= 3:\n",
    "        print(\"Your ticket is free\")\n",
    "    elif age <= 10:\n",
    "        print(\"Your ticket is $10\")\n",
    "    else:\n",
    "        print(\"Your ticket is $15\")"
   ]
  },
  {
   "cell_type": "code",
   "execution_count": 5,
   "metadata": {},
   "outputs": [
    {
     "name": "stdout",
     "output_type": "stream",
     "text": [
      "One of my favorite books is alice in Wonderland.\n"
     ]
    }
   ],
   "source": [
    "#-------------------------Q4----------------------------------\n",
    "#Write a function called favorite_book() that accepts one parameter, title.\n",
    "#The function should print a message, such as One of my favorite books is Alice in Wonderland.\n",
    "#Call the function, making sure to include a book title as an argument in the function call.\n",
    "\n",
    "def favorite_book(title):\n",
    "    \n",
    "    print(\"One of my favorite books is \" + title + \" in Wonderland.\")\n",
    "   \n",
    "    \n",
    "favorite_book('alice')"
   ]
  },
  {
   "cell_type": "code",
   "execution_count": null,
   "metadata": {},
   "outputs": [
    {
     "name": "stdout",
     "output_type": "stream",
     "text": [
      "\n",
      "I have a number between 1 and 30. Can you guess my number? Please type your first guess: 5\n",
      "Too low. Try again.\n",
      "\n",
      "What number do you guess? 55\n",
      "Too high. Try again.\n",
      "\n"
     ]
    }
   ],
   "source": [
    "#-------------------------Q5----------------------------------\n",
    "\n",
    "import random\n",
    "\n",
    "def main():\n",
    "    print (\"\")\n",
    "    number = int(input(\"I have a number between 1 and 30. Can you guess my number? Please type your first guess: \"))\n",
    "    guess(number)\n",
    "\n",
    "def guess(number1):\n",
    "    \n",
    "    randomNumber = random.randrange(1, 30)\n",
    "    \n",
    "    correct = False\n",
    "    while not correct:\n",
    "        if number1 > randomNumber:\n",
    "            print (\"Too high. Try again.\")\n",
    "            print (\"\")\n",
    "        elif number1 < randomNumber:\n",
    "            print (\"Too low. Try again.\")\n",
    "            print (\"\")\n",
    "        elif number1 == randomNumber:\n",
    "           break\n",
    "        number1 = int(input (\"What number do you guess? \"))\n",
    "    if number1 == randomNumber:\n",
    "       playAagain = raw_input (\"Excellent! You guessed the number! Would you like to play again (y or n)? \")\n",
    "       if playAagain == \"y\" or \"n\":\n",
    "            main()\n",
    "\n",
    "main()\n"
   ]
  },
  {
   "cell_type": "code",
   "execution_count": null,
   "metadata": {},
   "outputs": [],
   "source": []
  }
 ],
 "metadata": {
  "kernelspec": {
   "display_name": "Python 3",
   "language": "python",
   "name": "python3"
  },
  "language_info": {
   "codemirror_mode": {
    "name": "ipython",
    "version": 3
   },
   "file_extension": ".py",
   "mimetype": "text/x-python",
   "name": "python",
   "nbconvert_exporter": "python",
   "pygments_lexer": "ipython3",
   "version": "3.7.4"
  }
 },
 "nbformat": 4,
 "nbformat_minor": 2
}
